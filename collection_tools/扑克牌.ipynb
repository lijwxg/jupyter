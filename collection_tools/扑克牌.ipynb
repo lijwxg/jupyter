{
 "cells": [
  {
   "cell_type": "markdown",
   "metadata": {},
   "source": [
    "# 使用python定义一套扑克牌"
   ]
  },
  {
   "cell_type": "markdown",
   "metadata": {},
   "source": [
    "1. 使用namedtuple定义一张牌\n",
    "1. 扑克牌可以遍历, 可以随机取出"
   ]
  },
  {
   "cell_type": "code",
   "execution_count": 6,
   "metadata": {},
   "outputs": [],
   "source": [
    "from collections import namedtuple\n",
    "Card = namedtuple(\"Card\", [\"rank\", \"suit\"])\n",
    "ranks = list(range(1,10))+list(\"JQKA\")\n",
    "suits = [\"红桃\", \"黑桃\", \"方块\",\"梅花\"]\n",
    "\n",
    "class PlayingCard:\n",
    "\n",
    "    def __init__(self):\n",
    "        self._cards = [self.Card(rank, suit) for rank in ranks for suit in suits]\n",
    "\n",
    "    def __len__(self):\n",
    "        return len(self._cards)\n",
    "\n",
    "    def __getitem__(self, position):\n",
    "        return self._cards[position]"
   ]
  },
  {
   "cell_type": "code",
   "execution_count": 9,
   "metadata": {},
   "outputs": [],
   "source": [
    "deck = PlayingCard()"
   ]
  },
  {
   "cell_type": "code",
   "execution_count": 10,
   "metadata": {},
   "outputs": [
    {
     "output_type": "execute_result",
     "data": {
      "text/plain": "52"
     },
     "metadata": {},
     "execution_count": 10
    }
   ],
   "source": [
    "len(deck)"
   ]
  },
  {
   "cell_type": "code",
   "execution_count": 15,
   "metadata": {},
   "outputs": [
    {
     "output_type": "execute_result",
     "data": {
      "text/plain": "[Card(rank=4, suit='红桃'),\n Card(rank=1, suit='梅花'),\n Card(rank=5, suit='梅花'),\n Card(rank=3, suit='梅花')]"
     },
     "metadata": {},
     "execution_count": 15
    }
   ],
   "source": [
    "from random import choice,choices\n",
    "choices(deck,k=4)"
   ]
  },
  {
   "cell_type": "code",
   "execution_count": null,
   "metadata": {},
   "outputs": [],
   "source": []
  },
  {
   "cell_type": "code",
   "execution_count": null,
   "metadata": {},
   "outputs": [],
   "source": []
  }
 ],
 "metadata": {
  "language_info": {
   "codemirror_mode": {
    "name": "ipython",
    "version": 3
   },
   "file_extension": ".py",
   "mimetype": "text/x-python",
   "name": "python",
   "nbconvert_exporter": "python",
   "pygments_lexer": "ipython3",
   "version": "3.7.2-final"
  },
  "orig_nbformat": 2,
  "kernelspec": {
   "name": "python37264bitdatavenv27c688876be24502bb5a24c901ca47cd",
   "display_name": "Python 3.7.2 64-bit ('data': venv)"
  }
 },
 "nbformat": 4,
 "nbformat_minor": 2
}