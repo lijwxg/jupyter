{
 "cells": [
  {
   "cell_type": "code",
   "execution_count": 1,
   "metadata": {},
   "outputs": [],
   "source": [
    "import numpy as np"
   ]
  },
  {
   "cell_type": "code",
   "execution_count": 12,
   "metadata": {},
   "outputs": [
    {
     "output_type": "execute_result",
     "data": {
      "text/plain": "array([[0.96376352, 0.84946347, 0.7164501 , 0.61278072, 0.21759163,\n        0.65544885, 0.83222237, 0.35824576, 0.2265058 , 0.58954075,\n        0.15022418, 0.32985144, 0.10783601, 0.46161217, 0.10879408],\n       [0.23910671, 0.24808595, 0.00676347, 0.64501236, 0.28606208,\n        0.92656291, 0.37031974, 0.57873119, 0.32837614, 0.35383643,\n        0.35245928, 0.89959802, 0.66577484, 0.82024556, 0.62199002],\n       [0.14170062, 0.17402705, 0.79786122, 0.35394431, 0.64989175,\n        0.66264961, 0.83821441, 0.2645732 , 0.62707786, 0.61162632,\n        0.05398852, 0.18795456, 0.54756286, 0.09968509, 0.40961347],\n       [0.31748045, 0.50464679, 0.68554665, 0.52944344, 0.70380714,\n        0.06492526, 0.7560389 , 0.52765494, 0.57678963, 0.04843601,\n        0.6770203 , 0.57252853, 0.64389493, 0.49756763, 0.78798179],\n       [0.4477098 , 0.90169452, 0.93695927, 0.71527542, 0.67988031,\n        0.93339486, 0.67248666, 0.90121661, 0.03679667, 0.90033669,\n        0.93049904, 0.74609643, 0.83388287, 0.97039545, 0.85014943]])"
     },
     "metadata": {},
     "execution_count": 12
    }
   ],
   "source": [
    "array = np.random.random_sample((5,15))\n",
    "array"
   ]
  },
  {
   "cell_type": "code",
   "execution_count": 14,
   "metadata": {
    "tags": []
   },
   "outputs": [
    {
     "output_type": "stream",
     "name": "stdout",
     "text": "7.180330857506031\n7.342924698723609\n6.420370838088395\n7.893762401429427\n11.45677402736288\n"
    }
   ],
   "source": [
    "for year in array:\n",
    "    year_sum = 0\n",
    "    for month in year:\n",
    "        year_sum+=month\n",
    "    print(year_sum)"
   ]
  },
  {
   "cell_type": "code",
   "execution_count": 19,
   "metadata": {
    "tags": []
   },
   "outputs": [
    {
     "output_type": "stream",
     "name": "stdout",
     "text": "2.1097611008666246\n2.677917794794967\n3.143580705830374\n2.856456245542907\n2.5372329097616286\n3.242981493733879\n3.4692820800308444\n2.6304216901387205\n1.795546096428438\n2.5037761986314395\n2.164191318660902\n2.736028979554004\n"
    }
   ],
   "source": [
    "for i in range(12):\n",
    "    month_sum = 0\n",
    "    for year in array:\n",
    "        # print(f\"第{i}个月\",year[i])\n",
    "        month_sum+=year[i]\n",
    "    print(month_sum)\n"
   ]
  }
 ],
 "metadata": {
  "language_info": {
   "codemirror_mode": {
    "name": "ipython",
    "version": 3
   },
   "file_extension": ".py",
   "mimetype": "text/x-python",
   "name": "python",
   "nbconvert_exporter": "python",
   "pygments_lexer": "ipython3",
   "version": "3.7.2-final"
  },
  "orig_nbformat": 2,
  "kernelspec": {
   "name": "python37264bitdatavenv27c688876be24502bb5a24c901ca47cd",
   "display_name": "Python 3.7.2 64-bit ('data': venv)"
  }
 },
 "nbformat": 4,
 "nbformat_minor": 2
}